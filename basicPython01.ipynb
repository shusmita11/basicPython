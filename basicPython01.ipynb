{
 "cells": [
  {
   "cell_type": "markdown",
   "id": "a536d0a7-1fda-471e-8304-406fbb02cb86",
   "metadata": {},
   "source": [
    "1. Write a program that swaps the values of two variables."
   ]
  },
  {
   "cell_type": "code",
   "execution_count": 1,
   "id": "0b887298-95bd-4842-942f-81a8bbd67731",
   "metadata": {},
   "outputs": [
    {
     "name": "stdin",
     "output_type": "stream",
     "text": [
      "Enter the first number: 4\n",
      "Enter the second number: 7\n"
     ]
    },
    {
     "name": "stdout",
     "output_type": "stream",
     "text": [
      "Before swap: x = 4 and y = 7\n",
      "After swap: x = 7 and y = 4\n"
     ]
    }
   ],
   "source": [
    "x = int(input(\"Enter the first number:\"))\n",
    "y = int(input(\"Enter the second number:\"))\n",
    "\n",
    "output_01 = \"Before swap: x = %d and y = %d\" %(x, y)\n",
    "print(output_01)\n",
    "\n",
    "x, y = y, x\n",
    "\n",
    "output_02 = \"After swap: x = %d and y = %d\" %(x, y)\n",
    "print(output_02)"
   ]
  },
  {
   "cell_type": "markdown",
   "id": "ac92bf62-0ab4-4f71-a999-e88f53de551e",
   "metadata": {},
   "source": [
    "<br>"
   ]
  },
  {
   "cell_type": "markdown",
   "id": "7a7397c8-daf5-4e59-bc33-748c586e6b51",
   "metadata": {},
   "source": [
    "2. Write a program that calculates the area of a rectangle given its length and width."
   ]
  },
  {
   "cell_type": "code",
   "execution_count": 2,
   "id": "48b63a49-7d7e-43ec-bf35-2fb240124155",
   "metadata": {},
   "outputs": [
    {
     "name": "stdin",
     "output_type": "stream",
     "text": [
      "Enter Length: 80\n",
      "Enter Width: 25\n"
     ]
    },
    {
     "name": "stdout",
     "output_type": "stream",
     "text": [
      "Area of the rectengle: 2000.0\n"
     ]
    }
   ],
   "source": [
    "length = float(input(\"Enter Length:\"))\n",
    "width = float(input(\"Enter Width:\"))\n",
    "\n",
    "area = length * width\n",
    "\n",
    "print(\"Area of the rectengle:\", area)"
   ]
  },
  {
   "cell_type": "markdown",
   "id": "605e61a5-2d35-4294-b5e8-f2c1f63b78fa",
   "metadata": {},
   "source": [
    "<br>"
   ]
  },
  {
   "cell_type": "markdown",
   "id": "ac8718cf-fd77-47cc-aced-8e2984f9f377",
   "metadata": {},
   "source": [
    "3. Write a program that converts temperature from Fahrenheit to Celsius."
   ]
  },
  {
   "cell_type": "code",
   "execution_count": 3,
   "id": "2a43d3c5-c1af-4445-9d79-12ff0a385e88",
   "metadata": {},
   "outputs": [
    {
     "name": "stdin",
     "output_type": "stream",
     "text": [
      "Enter Temperature in Fahrenheit: 102\n"
     ]
    },
    {
     "name": "stdout",
     "output_type": "stream",
     "text": [
      "Temperature in Celsius: 38.88888888888889\n"
     ]
    }
   ],
   "source": [
    "temp_F = float(input(\"Enter Temperature in Fahrenheit:\"))\n",
    "\n",
    "temp_C = (temp_F-32) * (5/9)\n",
    "\n",
    "print(\"Temperature in Celsius:\", temp_C)"
   ]
  },
  {
   "cell_type": "markdown",
   "id": "4082e08e-36c9-452f-a552-4d3499d15af9",
   "metadata": {},
   "source": [
    "<br>"
   ]
  },
  {
   "cell_type": "markdown",
   "id": "37276a27-523b-4947-837a-c1e41f80e217",
   "metadata": {},
   "source": [
    "4. Write a program that calculates the volume of a sphere given its radius."
   ]
  },
  {
   "cell_type": "code",
   "execution_count": 4,
   "id": "95149267-9688-4655-bb44-2fe38c1f42fa",
   "metadata": {},
   "outputs": [
    {
     "name": "stdin",
     "output_type": "stream",
     "text": [
      "Enter Radius: 3\n"
     ]
    },
    {
     "name": "stdout",
     "output_type": "stream",
     "text": [
      "The volume of the sphere: 113.09733552923254\n"
     ]
    }
   ],
   "source": [
    "import math\n",
    "\n",
    "radius = float(input(\"Enter Radius:\"))\n",
    "\n",
    "volume = (4/3) * math.pi * radius**3\n",
    "\n",
    "print(\"The volume of the sphere:\", volume)"
   ]
  },
  {
   "cell_type": "markdown",
   "id": "e34c7253-4a35-4278-ae56-a10098b6c62f",
   "metadata": {},
   "source": [
    "<br>"
   ]
  },
  {
   "cell_type": "markdown",
   "id": "20f0f36d-ab1c-430f-8004-63751bbfd95b",
   "metadata": {},
   "source": [
    "5. Write a program that finds the average of three numbers."
   ]
  },
  {
   "cell_type": "code",
   "execution_count": 6,
   "id": "f676096b-462a-4e0a-be9d-d8ba6637dab1",
   "metadata": {},
   "outputs": [
    {
     "name": "stdin",
     "output_type": "stream",
     "text": [
      "Enter the first number: 25\n",
      "Enter the second number: 40\n",
      "Enter the third number: 17\n"
     ]
    },
    {
     "name": "stdout",
     "output_type": "stream",
     "text": [
      "The average of the three numbers: 27.333333333333332\n"
     ]
    }
   ],
   "source": [
    "a = float(input(\"Enter the first number:\"))\n",
    "b = float(input(\"Enter the second number:\"))\n",
    "c = float(input(\"Enter the third number:\"))\n",
    "\n",
    "avg = (a+b+c)/3\n",
    "\n",
    "print(\"The average of the three numbers:\", avg)"
   ]
  },
  {
   "cell_type": "markdown",
   "id": "ecdce46d-ed0e-4ec6-aab7-d2bb2bfea240",
   "metadata": {},
   "source": [
    "<br>"
   ]
  },
  {
   "cell_type": "markdown",
   "id": "47a9c8c3-7b08-4322-93e5-0e8574a86049",
   "metadata": {},
   "source": [
    "6. Write a program that determines if a number is even or odd."
   ]
  },
  {
   "cell_type": "code",
   "execution_count": 9,
   "id": "15ef20af-252d-4559-baae-4e0af54baa78",
   "metadata": {},
   "outputs": [
    {
     "name": "stdin",
     "output_type": "stream",
     "text": [
      "Enter a number: 5\n"
     ]
    },
    {
     "name": "stdout",
     "output_type": "stream",
     "text": [
      "The number 5 is odd\n"
     ]
    }
   ],
   "source": [
    "number = int(input(\"Enter a number:\"))\n",
    "\n",
    "if number%2 == 0:\n",
    "    print(\"The number %d is even\" %(number))\n",
    "\n",
    "else:\n",
    "    print(\"The number %d is odd\" %(number))"
   ]
  },
  {
   "cell_type": "markdown",
   "id": "b0b46f12-f0de-4c92-abff-7f37d5ff3bf0",
   "metadata": {},
   "source": [
    "<br>"
   ]
  },
  {
   "cell_type": "markdown",
   "id": "93f6887e-8116-4141-a753-53cb6876d5dd",
   "metadata": {},
   "source": [
    "7. Write a program that finds the maximum of three numbers."
   ]
  },
  {
   "cell_type": "code",
   "execution_count": 13,
   "id": "f1e693f7-f61b-4248-8198-0bc0badd52c8",
   "metadata": {},
   "outputs": [
    {
     "name": "stdin",
     "output_type": "stream",
     "text": [
      "Enter the first number: 11\n",
      "Enter the second number: 13\n",
      "Enter the third number: 12\n"
     ]
    },
    {
     "name": "stdout",
     "output_type": "stream",
     "text": [
      "The maximum of the three numbers is: 13.0\n"
     ]
    }
   ],
   "source": [
    "a = float(input(\"Enter the first number:\"))\n",
    "b = float(input(\"Enter the second number:\"))\n",
    "c = float(input(\"Enter the third number:\"))\n",
    "\n",
    "if(a>=b and a>=c):\n",
    "    print(\"The maximum of the three numbers is:\", a)\n",
    "\n",
    "elif(b>=a and b>=c ):\n",
    "    print(\"The maximum of the three numbers is:\", b)\n",
    "\n",
    "else:\n",
    "    print(\"The maximum of the three numbers is:\", c)"
   ]
  },
  {
   "cell_type": "markdown",
   "id": "cbe79ce7-7547-478d-961c-f129b4108add",
   "metadata": {},
   "source": [
    "<br>"
   ]
  },
  {
   "cell_type": "markdown",
   "id": "9fbae0fd-bf5f-48d0-be1f-5bb9392ab984",
   "metadata": {},
   "source": [
    "8. Write a program that determines if a year is a leap year or not."
   ]
  },
  {
   "cell_type": "code",
   "execution_count": 15,
   "id": "e96b2b74-71ad-42c4-a477-1e539102e3d7",
   "metadata": {},
   "outputs": [
    {
     "name": "stdin",
     "output_type": "stream",
     "text": [
      "Enter a year:  2024\n"
     ]
    },
    {
     "name": "stdout",
     "output_type": "stream",
     "text": [
      "2024 is a leap year\n"
     ]
    }
   ],
   "source": [
    "year = int(input(\"Enter a year: \"))\n",
    "\n",
    "if(year%4 == 0 and year%100 != 0) or (year%400 == 0):\n",
    "    print(\"%d is a leap year\" %(year))\n",
    "\n",
    "else:\n",
    "    print(\"%d is not a leap year\" %(year))"
   ]
  },
  {
   "cell_type": "markdown",
   "id": "6ffbff9e-5fc6-4b9c-b52e-80e142c51c1e",
   "metadata": {},
   "source": [
    "<br>"
   ]
  },
  {
   "cell_type": "markdown",
   "id": "55e6ffcf-9d4b-4667-9d7c-33eeaf8e0264",
   "metadata": {},
   "source": [
    "9. Write a program that determines if a number is positive, negative, or zero."
   ]
  },
  {
   "cell_type": "code",
   "execution_count": 18,
   "id": "b95df61e-d3dd-4786-b0af-811b02297e49",
   "metadata": {},
   "outputs": [
    {
     "name": "stdin",
     "output_type": "stream",
     "text": [
      "Enter a number: 10\n"
     ]
    },
    {
     "name": "stdout",
     "output_type": "stream",
     "text": [
      "10 is a positive number\n"
     ]
    }
   ],
   "source": [
    "number = int(input(\"Enter a number:\"))\n",
    "\n",
    "if(number>0):\n",
    "    print(\"%d is a positive number\" %(number))\n",
    "\n",
    "elif (number<0):\n",
    "    print(\"%d is a negative number\" %(number))\n",
    "\n",
    "else:\n",
    "    print(\"The number is zero\")"
   ]
  },
  {
   "cell_type": "markdown",
   "id": "69bdc9ce-f0c0-46d5-9f4a-ec39f329ab1f",
   "metadata": {},
   "source": [
    "<br>"
   ]
  },
  {
   "cell_type": "markdown",
   "id": "6f3ef029-82c3-4861-a349-324985294084",
   "metadata": {},
   "source": [
    "10. Write a program that calculates the grade based on a given percentage."
   ]
  },
  {
   "cell_type": "code",
   "execution_count": 35,
   "id": "b8cc3df7-5725-40a0-a1f9-94ef4aeffbe0",
   "metadata": {},
   "outputs": [
    {
     "name": "stdin",
     "output_type": "stream",
     "text": [
      "Enter the percentage of marks: 98\n"
     ]
    },
    {
     "name": "stdout",
     "output_type": "stream",
     "text": [
      "The grade is A+\n"
     ]
    }
   ],
   "source": [
    "marks = float(input(\"Enter the percentage of marks:\"))\n",
    "\n",
    "if(marks>=90 and marks<=100):\n",
    "    print(\"The grade is A+\")\n",
    "\n",
    "elif(marks>=85 and marks<=89):\n",
    "    print(\"The grade is A\")\n",
    "\n",
    "elif(marks>=80 and marks<=84):\n",
    "    print(\"The grade is B+\")\n",
    "\n",
    "elif(marks>=75 and marks<=79):\n",
    "    print(\"The grade is B\")\n",
    "\n",
    "elif(marks>=70 and marks<=74):\n",
    "    print(\"The grade is C+\")\n",
    "\n",
    "elif(marks>=65 and marks<=69):\n",
    "     print(\"The grade is C\")\n",
    "\n",
    "elif(marks>=60 and marks<=64):\n",
    "    print(\"The grade is D+\")\n",
    "\n",
    "elif(marks>=50 and marks<=59):\n",
    "    print(\"The grade is D\")\n",
    "\n",
    "elif(marks>=0 and marks<=49):\n",
    "    print(\"The grade is F\")\n",
    "\n",
    "else:\n",
    "    print(\"Invalid Grade\")"
   ]
  },
  {
   "cell_type": "markdown",
   "id": "6aa94e4c-434b-4ab9-896f-448a2048f905",
   "metadata": {},
   "source": [
    "<br>"
   ]
  },
  {
   "cell_type": "markdown",
   "id": "52dd353e-46a1-4962-a854-ef69a836524d",
   "metadata": {},
   "source": [
    "11. Write a program that prints the first `n` natural numbers."
   ]
  },
  {
   "cell_type": "code",
   "execution_count": 37,
   "id": "ad5d4514-180d-490e-baad-7543b910e404",
   "metadata": {},
   "outputs": [
    {
     "name": "stdin",
     "output_type": "stream",
     "text": [
      "Enter the value of n 20\n"
     ]
    },
    {
     "name": "stdout",
     "output_type": "stream",
     "text": [
      "1 2 3 4 5 6 7 8 9 10 11 12 13 14 15 16 17 18 19 20 "
     ]
    }
   ],
   "source": [
    "n = int(input(\"Enter the value of n\"))\n",
    "\n",
    "for i in range(1, n+1):\n",
    "    print(i, end=\" \")"
   ]
  },
  {
   "cell_type": "markdown",
   "id": "5b2a975a-fbd8-4420-8777-a503f47d862c",
   "metadata": {},
   "source": [
    "<br>"
   ]
  },
  {
   "cell_type": "markdown",
   "id": "44743185-d852-4de4-b0f0-c4c71f86b134",
   "metadata": {},
   "source": [
    "12. Write a program that calculates the factorial of a number."
   ]
  },
  {
   "cell_type": "code",
   "execution_count": 38,
   "id": "23e889c6-5acd-4f2b-852f-f72346e73fe2",
   "metadata": {},
   "outputs": [
    {
     "name": "stdin",
     "output_type": "stream",
     "text": [
      "Enter the number: 5\n"
     ]
    },
    {
     "name": "stdout",
     "output_type": "stream",
     "text": [
      "THe factorial of the given number is: 120\n"
     ]
    }
   ],
   "source": [
    "n = int(input(\"Enter the number:\"))\n",
    "\n",
    "fact = 1\n",
    "\n",
    "for i in range(1, n+1):\n",
    "    fact *= i\n",
    "\n",
    "print(\"THe factorial of the given number is:\", fact)"
   ]
  },
  {
   "cell_type": "markdown",
   "id": "3f26c275-4c60-41a6-9171-706c4283ee7e",
   "metadata": {},
   "source": [
    "<br>"
   ]
  },
  {
   "cell_type": "markdown",
   "id": "abff1b5d-e7a1-4ed7-83a8-2b574e584d39",
   "metadata": {},
   "source": [
    "13. Write a program that generates a Fibonacci sequence of length `n`."
   ]
  },
  {
   "cell_type": "code",
   "execution_count": 39,
   "id": "d2df26a9-881c-4245-9576-6ca06c081f22",
   "metadata": {},
   "outputs": [
    {
     "name": "stdin",
     "output_type": "stream",
     "text": [
      "Enter the length: 10\n"
     ]
    },
    {
     "name": "stdout",
     "output_type": "stream",
     "text": [
      "Fibonacci sequence of length 10 is:\n",
      "0 1 1 2 3 5 8 13 21 34 "
     ]
    }
   ],
   "source": [
    "n = int(input(\"Enter the length:\"))\n",
    "\n",
    "if n<=0:\n",
    "    print(\"Enter a positive number\")\n",
    "\n",
    "else:\n",
    "    a, b = 0, 1\n",
    "    print(\"Fibonacci sequence of length %d is:\" %(n))\n",
    "    for i in range(n):\n",
    "        print(a, end=\" \")\n",
    "        a, b = b, a+b"
   ]
  },
  {
   "cell_type": "markdown",
   "id": "c806a24a-4c5d-47fa-afa1-19168d460e04",
   "metadata": {},
   "source": [
    "<br>"
   ]
  },
  {
   "cell_type": "markdown",
   "id": "00f2a15b-5699-4344-917e-5622c6372936",
   "metadata": {},
   "source": [
    "14. Write a program that checks if a given number is prime or not."
   ]
  },
  {
   "cell_type": "code",
   "execution_count": 48,
   "id": "740e8849-09dd-4961-89a0-9c504deec133",
   "metadata": {},
   "outputs": [
    {
     "name": "stdin",
     "output_type": "stream",
     "text": [
      "Enter the number: 7\n"
     ]
    },
    {
     "name": "stdout",
     "output_type": "stream",
     "text": [
      "7 is a prime number\n"
     ]
    }
   ],
   "source": [
    "n = int(input(\"Enter the number:\"))\n",
    "\n",
    "if(n==2): \n",
    "    print(\"%d is a prime number\" %(n))\n",
    "\n",
    "elif(n==0 or n==1):\n",
    "    print(\"%d is not a prime number\" %(n))\n",
    "\n",
    "else:\n",
    "    count = 0\n",
    "    for i in range(2, int(n**0.5)+1):\n",
    "        if n%i==0:\n",
    "            count += 1\n",
    "            \n",
    "    if(count == 0):\n",
    "        print(\"%d is a prime number\" %(n))\n",
    "    else:\n",
    "        print(\"%d is not a prime number\" %(n))"
   ]
  },
  {
   "cell_type": "markdown",
   "id": "af386fee-b621-4020-a4f1-c96983c148d5",
   "metadata": {},
   "source": [
    "<br>"
   ]
  },
  {
   "cell_type": "markdown",
   "id": "45f4b6ad-0945-4a9a-aa1a-587a65748fee",
   "metadata": {},
   "source": [
    "15. Write a program that prints the multiplication table of a given number."
   ]
  },
  {
   "cell_type": "code",
   "execution_count": 49,
   "id": "130a0b73-eaa9-467d-a47c-478ceb2bec23",
   "metadata": {
    "scrolled": true
   },
   "outputs": [
    {
     "name": "stdin",
     "output_type": "stream",
     "text": [
      "Enter the number: 8\n"
     ]
    },
    {
     "name": "stdout",
     "output_type": "stream",
     "text": [
      "Multiplication table of 8 is:\n",
      "8 * 1 = 8\n",
      "8 * 2 = 16\n",
      "8 * 3 = 24\n",
      "8 * 4 = 32\n",
      "8 * 5 = 40\n",
      "8 * 6 = 48\n",
      "8 * 7 = 56\n",
      "8 * 8 = 64\n",
      "8 * 9 = 72\n",
      "8 * 10 = 80\n"
     ]
    }
   ],
   "source": [
    "n = int(input(\"Enter the number:\"))\n",
    "\n",
    "print(\"Multiplication table of %d is:\" %(n))\n",
    "for i in range (1, 11):\n",
    "    multi = n*i\n",
    "    print(n,\"*\",i,\"=\",multi)"
   ]
  },
  {
   "cell_type": "markdown",
   "id": "f078d01d-ebca-41fb-9c30-be595802a565",
   "metadata": {},
   "source": [
    "<br>"
   ]
  },
  {
   "cell_type": "markdown",
   "id": "2fdfd808-c3a2-4c66-a3b7-aee5d13b93e6",
   "metadata": {},
   "source": [
    "16. Write a program that finds the sum of all even numbers between 1 and `n`."
   ]
  },
  {
   "cell_type": "code",
   "execution_count": 50,
   "id": "fbeeb956-21cf-4107-aec2-689879fcf074",
   "metadata": {},
   "outputs": [
    {
     "name": "stdin",
     "output_type": "stream",
     "text": [
      "Enter the number: 10\n"
     ]
    },
    {
     "name": "stdout",
     "output_type": "stream",
     "text": [
      "The sum of all even numbers between 1 and 10 is: 30\n"
     ]
    }
   ],
   "source": [
    "n = int(input(\"Enter the number:\"))\n",
    "\n",
    "i = 2\n",
    "sum = 0\n",
    "while(i<=n):\n",
    "    sum += i\n",
    "    i +=2\n",
    "\n",
    "print(\"The sum of all even numbers between 1 and\",n,\"is:\", sum)"
   ]
  },
  {
   "cell_type": "markdown",
   "id": "1bc423b5-e15a-44b1-bb77-c6ae2a15cf6e",
   "metadata": {},
   "source": [
    "<br>"
   ]
  },
  {
   "cell_type": "markdown",
   "id": "79b54345-dc50-445f-b47a-4e26cdc8b647",
   "metadata": {},
   "source": [
    "17. Write a program that reverses a given number."
   ]
  },
  {
   "cell_type": "code",
   "execution_count": 51,
   "id": "860b80db-f807-4570-b41a-1041f0b2e5c4",
   "metadata": {},
   "outputs": [
    {
     "name": "stdin",
     "output_type": "stream",
     "text": [
      "Enter the number: 123456789\n"
     ]
    },
    {
     "name": "stdout",
     "output_type": "stream",
     "text": [
      "Reversed Number: 987654321\n"
     ]
    }
   ],
   "source": [
    "number = int(input(\"Enter the number:\"))\n",
    "\n",
    "reversed_number = 0\n",
    "while(number>0):\n",
    "    digit = number%10\n",
    "    reversed_number = reversed_number*10+digit\n",
    "    number = number//10\n",
    "\n",
    "print(\"Reversed Number:\",reversed_number)"
   ]
  },
  {
   "cell_type": "markdown",
   "id": "e0e3b9a7-b72e-48e6-ad83-529dc3e11507",
   "metadata": {},
   "source": [
    "<br>"
   ]
  },
  {
   "cell_type": "markdown",
   "id": "1a50088f-4122-4b29-8310-33be299c6e98",
   "metadata": {},
   "source": [
    "18. Write a program that checks if a given string, is a palindrome."
   ]
  },
  {
   "cell_type": "code",
   "execution_count": 53,
   "id": "ef8a796e-afdd-4de4-be9c-ba794f4c3703",
   "metadata": {},
   "outputs": [
    {
     "name": "stdin",
     "output_type": "stream",
     "text": [
      "Enter a string: madam\n"
     ]
    },
    {
     "name": "stdout",
     "output_type": "stream",
     "text": [
      "String madam is a palindrome\n"
     ]
    }
   ],
   "source": [
    "str = input(\"Enter a string:\")\n",
    "\n",
    "left = 0\n",
    "right = len(str)-1\n",
    "is_palindrome = True\n",
    "\n",
    "while(left<right):\n",
    "    if(str[left] != str[right]):\n",
    "        is_palindrome = False\n",
    "        break\n",
    "    left += 1\n",
    "    right -= 1\n",
    "\n",
    "if is_palindrome:\n",
    "    print(\"String %s is a palindrome\" %(str))\n",
    "\n",
    "else:\n",
    "    print(\"String %s is not a palindrome\" %(str))"
   ]
  },
  {
   "cell_type": "markdown",
   "id": "62fda3ba-1cf2-4e54-a3f7-74c5ed302834",
   "metadata": {},
   "source": [
    "<br>"
   ]
  },
  {
   "cell_type": "markdown",
   "id": "ae726142-2bb7-4dc9-bfa9-d24ba19c1dd8",
   "metadata": {},
   "source": [
    "19. Write a program that generates a random number and allows the user to guess it."
   ]
  },
  {
   "cell_type": "code",
   "execution_count": 54,
   "id": "9575372a-5687-4236-a17f-75aa2009b3cf",
   "metadata": {},
   "outputs": [
    {
     "name": "stdin",
     "output_type": "stream",
     "text": [
      "Enter a number between 1 to 100 50\n"
     ]
    },
    {
     "name": "stdout",
     "output_type": "stream",
     "text": [
      "50 is too low\n"
     ]
    },
    {
     "name": "stdin",
     "output_type": "stream",
     "text": [
      "Enter a number between 1 to 100 60\n"
     ]
    },
    {
     "name": "stdout",
     "output_type": "stream",
     "text": [
      "60 is too low\n"
     ]
    },
    {
     "name": "stdin",
     "output_type": "stream",
     "text": [
      "Enter a number between 1 to 100 70\n"
     ]
    },
    {
     "name": "stdout",
     "output_type": "stream",
     "text": [
      "70 is too low\n"
     ]
    },
    {
     "name": "stdin",
     "output_type": "stream",
     "text": [
      "Enter a number between 1 to 100 80\n"
     ]
    },
    {
     "name": "stdout",
     "output_type": "stream",
     "text": [
      "80 is too low\n"
     ]
    },
    {
     "name": "stdin",
     "output_type": "stream",
     "text": [
      "Enter a number between 1 to 100 90\n"
     ]
    },
    {
     "name": "stdout",
     "output_type": "stream",
     "text": [
      "90 is too low\n"
     ]
    },
    {
     "name": "stdin",
     "output_type": "stream",
     "text": [
      "Enter a number between 1 to 100 91\n"
     ]
    },
    {
     "name": "stdout",
     "output_type": "stream",
     "text": [
      "91 is too low\n"
     ]
    },
    {
     "name": "stdin",
     "output_type": "stream",
     "text": [
      "Enter a number between 1 to 100 92\n"
     ]
    },
    {
     "name": "stdout",
     "output_type": "stream",
     "text": [
      "92 is too low\n"
     ]
    },
    {
     "name": "stdin",
     "output_type": "stream",
     "text": [
      "Enter a number between 1 to 100 93\n"
     ]
    },
    {
     "name": "stdout",
     "output_type": "stream",
     "text": [
      "93 is too low\n"
     ]
    },
    {
     "name": "stdin",
     "output_type": "stream",
     "text": [
      "Enter a number between 1 to 100 94\n"
     ]
    },
    {
     "name": "stdout",
     "output_type": "stream",
     "text": [
      "94 is too low\n"
     ]
    },
    {
     "name": "stdin",
     "output_type": "stream",
     "text": [
      "Enter a number between 1 to 100 95\n"
     ]
    },
    {
     "name": "stdout",
     "output_type": "stream",
     "text": [
      "95 is too low\n"
     ]
    },
    {
     "name": "stdin",
     "output_type": "stream",
     "text": [
      "Enter a number between 1 to 100 96\n"
     ]
    },
    {
     "name": "stdout",
     "output_type": "stream",
     "text": [
      "96 is too low\n"
     ]
    },
    {
     "name": "stdin",
     "output_type": "stream",
     "text": [
      "Enter a number between 1 to 100 97\n"
     ]
    },
    {
     "name": "stdout",
     "output_type": "stream",
     "text": [
      "97 is the correct guess!\n"
     ]
    }
   ],
   "source": [
    "import random\n",
    "\n",
    "low = 1\n",
    "high = 100\n",
    "\n",
    "number = random.randint(low, high)\n",
    "\n",
    "while True:\n",
    "    guess = int(input(\"Enter a number between %d to %d\" %(low, high)))\n",
    "    if(guess<number):\n",
    "        print(\"%d is too low\" %(guess))\n",
    "\n",
    "    elif(guess>number):\n",
    "        print(\"%d is too high\" %(guess))\n",
    "\n",
    "    else:\n",
    "        print(\"%d is the correct guess!\" %(guess))\n",
    "        break"
   ]
  },
  {
   "cell_type": "markdown",
   "id": "6c967711-5d29-405d-aa83-54ab41cee60b",
   "metadata": {},
   "source": [
    "<br>"
   ]
  },
  {
   "cell_type": "markdown",
   "id": "a39e1327-dcdb-4f1e-b4f6-aa32cf187455",
   "metadata": {},
   "source": [
    "20. Write a program that finds the greatest common divisor (GCD) of two numbers."
   ]
  },
  {
   "cell_type": "code",
   "execution_count": 59,
   "id": "57fb36d3-4723-4419-b9dd-efe2688fd370",
   "metadata": {},
   "outputs": [
    {
     "name": "stdin",
     "output_type": "stream",
     "text": [
      "Enter the first number: 30\n",
      "Enter the second number: 45\n"
     ]
    },
    {
     "name": "stdout",
     "output_type": "stream",
     "text": [
      "The GCD of the following two numbers: 15\n"
     ]
    }
   ],
   "source": [
    "a = int(input(\"Enter the first number:\"))\n",
    "b = int(input(\"Enter the second number:\"))\n",
    "\n",
    "while b!=0:\n",
    "    a, b= b, a%b\n",
    "\n",
    "print(\"The GCD of the following two numbers:\", a)"
   ]
  },
  {
   "cell_type": "code",
   "execution_count": null,
   "id": "7af29ea2-ef31-472f-aeab-aff00fc0c764",
   "metadata": {},
   "outputs": [],
   "source": []
  }
 ],
 "metadata": {
  "kernelspec": {
   "display_name": "Python 3 (ipykernel)",
   "language": "python",
   "name": "python3"
  },
  "language_info": {
   "codemirror_mode": {
    "name": "ipython",
    "version": 3
   },
   "file_extension": ".py",
   "mimetype": "text/x-python",
   "name": "python",
   "nbconvert_exporter": "python",
   "pygments_lexer": "ipython3",
   "version": "3.11.7"
  }
 },
 "nbformat": 4,
 "nbformat_minor": 5
}
